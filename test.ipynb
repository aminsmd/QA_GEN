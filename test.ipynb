{
 "cells": [
  {
   "cell_type": "markdown",
   "metadata": {},
   "source": [
    "# SOM1/WF1 Workflow Notebook\n",
    "\n",
    "This notebook runs the SOM1/WF1 workflow using our custom agents and evaluation utilities defined in our Python modules:\n",
    "- `utils.py`\n",
    "- `agents.py`\n",
    "- `workflows.py`\n",
    "\n",
    "Make sure all these files are in the same directory as this notebook.\n"
   ]
  },
  {
   "cell_type": "code",
   "execution_count": 9,
   "metadata": {},
   "outputs": [
    {
     "ename": "ImportError",
     "evalue": "cannot import name 'try_eval_type' from 'pydantic._internal._typing_extra' (/usr/local/lib/python3.11/site-packages/pydantic/_internal/_typing_extra.py)",
     "output_type": "error",
     "traceback": [
      "\u001b[0;31m---------------------------------------------------------------------------\u001b[0m",
      "\u001b[0;31mImportError\u001b[0m                               Traceback (most recent call last)",
      "Cell \u001b[0;32mIn[9], line 2\u001b[0m\n\u001b[1;32m      1\u001b[0m \u001b[38;5;66;03m# Import the run_SOM1_WF1 function from workflows.py\u001b[39;00m\n\u001b[0;32m----> 2\u001b[0m \u001b[38;5;28;01mfrom\u001b[39;00m \u001b[38;5;21;01mworkflows\u001b[39;00m \u001b[38;5;28;01mimport\u001b[39;00m run_SOM1_WF1\n",
      "File \u001b[0;32m~/QA_GEN/workflows.py:8\u001b[0m\n\u001b[1;32m      5\u001b[0m \u001b[38;5;28;01mimport\u001b[39;00m \u001b[38;5;21;01mpandas\u001b[39;00m \u001b[38;5;28;01mas\u001b[39;00m \u001b[38;5;21;01mpd\u001b[39;00m\n\u001b[1;32m      7\u001b[0m \u001b[38;5;66;03m# Import get_agent from agents.py\u001b[39;00m\n\u001b[0;32m----> 8\u001b[0m \u001b[38;5;28;01mfrom\u001b[39;00m \u001b[38;5;21;01magents\u001b[39;00m \u001b[38;5;28;01mimport\u001b[39;00m get_agent\n\u001b[1;32m     10\u001b[0m \u001b[38;5;66;03m# Import helper functions and Pydantic models from utils.py\u001b[39;00m\n\u001b[1;32m     11\u001b[0m \u001b[38;5;28;01mfrom\u001b[39;00m \u001b[38;5;21;01mutils\u001b[39;00m \u001b[38;5;28;01mimport\u001b[39;00m (\n\u001b[1;32m     12\u001b[0m     \u001b[38;5;66;03m# Pydantic models:\u001b[39;00m\n\u001b[1;32m     13\u001b[0m     ExtractedInfo_Base,\n\u001b[0;32m   (...)\u001b[0m\n\u001b[1;32m     19\u001b[0m     calculate_total_tokens\n\u001b[1;32m     20\u001b[0m )\n",
      "File \u001b[0;32m~/QA_GEN/agents.py:1\u001b[0m\n\u001b[0;32m----> 1\u001b[0m \u001b[38;5;28;01mfrom\u001b[39;00m \u001b[38;5;21;01mutils\u001b[39;00m \u001b[38;5;28;01mimport\u001b[39;00m CustomLLMClient_Base, CustomLLMClient_Solution, CustomLLMClient_COT\n\u001b[1;32m      3\u001b[0m \u001b[38;5;28;01mdef\u001b[39;00m \u001b[38;5;21mgenerate_system_prompt\u001b[39m(agent, autoCOT_flag, difficulty_method, difficulty, kc, \n\u001b[1;32m      4\u001b[0m                            all_questions, easy_questions, medium_questions, hard_questions):\n\u001b[1;32m      5\u001b[0m \u001b[38;5;250m    \u001b[39m\u001b[38;5;124;03m\"\"\"\u001b[39;00m\n\u001b[1;32m      6\u001b[0m \u001b[38;5;124;03m    Generate the system prompt based on agent type and provided parameters.\u001b[39;00m\n\u001b[1;32m      7\u001b[0m \u001b[38;5;124;03m    \u001b[39;00m\n\u001b[0;32m   (...)\u001b[0m\n\u001b[1;32m     20\u001b[0m \u001b[38;5;124;03m      str: The constructed system prompt.\u001b[39;00m\n\u001b[1;32m     21\u001b[0m \u001b[38;5;124;03m    \"\"\"\u001b[39;00m\n",
      "File \u001b[0;32m~/QA_GEN/utils.py:7\u001b[0m\n\u001b[1;32m      4\u001b[0m \u001b[38;5;28;01mimport\u001b[39;00m \u001b[38;5;21;01mpandas\u001b[39;00m \u001b[38;5;28;01mas\u001b[39;00m \u001b[38;5;21;01mpd\u001b[39;00m\n\u001b[1;32m      6\u001b[0m \u001b[38;5;66;03m# autogen and LLM-related imports\u001b[39;00m\n\u001b[0;32m----> 7\u001b[0m \u001b[38;5;28;01mimport\u001b[39;00m \u001b[38;5;21;01mautogen\u001b[39;00m\n\u001b[1;32m      8\u001b[0m \u001b[38;5;28;01mfrom\u001b[39;00m \u001b[38;5;21;01mautogen\u001b[39;00m \u001b[38;5;28;01mimport\u001b[39;00m AssistantAgent, config_list_from_json\n\u001b[1;32m      9\u001b[0m \u001b[38;5;28;01mfrom\u001b[39;00m \u001b[38;5;21;01mautogen\u001b[39;00m\u001b[38;5;21;01m.\u001b[39;00m\u001b[38;5;21;01mtoken_count_utils\u001b[39;00m \u001b[38;5;28;01mimport\u001b[39;00m count_token\n",
      "File \u001b[0;32m/usr/local/lib/python3.11/site-packages/autogen/__init__.py:9\u001b[0m\n\u001b[1;32m      1\u001b[0m \u001b[38;5;66;03m# Copyright (c) 2023 - 2025, AG2ai, Inc., AG2ai open-source projects maintainers and core contributors\u001b[39;00m\n\u001b[1;32m      2\u001b[0m \u001b[38;5;66;03m#\u001b[39;00m\n\u001b[1;32m      3\u001b[0m \u001b[38;5;66;03m# SPDX-License-Identifier: Apache-2.0\u001b[39;00m\n\u001b[1;32m      4\u001b[0m \u001b[38;5;66;03m#\u001b[39;00m\n\u001b[1;32m      5\u001b[0m \u001b[38;5;66;03m# Portions derived from  https://github.com/microsoft/autogen are under the MIT License.\u001b[39;00m\n\u001b[1;32m      6\u001b[0m \u001b[38;5;66;03m# SPDX-License-Identifier: MIT\u001b[39;00m\n\u001b[1;32m      7\u001b[0m \u001b[38;5;28;01mimport\u001b[39;00m \u001b[38;5;21;01mlogging\u001b[39;00m\n\u001b[0;32m----> 9\u001b[0m \u001b[38;5;28;01mfrom\u001b[39;00m \u001b[38;5;21;01m.\u001b[39;00m\u001b[38;5;21;01magentchat\u001b[39;00m \u001b[38;5;28;01mimport\u001b[39;00m (\n\u001b[1;32m     10\u001b[0m     AFTER_WORK,\n\u001b[1;32m     11\u001b[0m     ON_CONDITION,\n\u001b[1;32m     12\u001b[0m     UPDATE_SYSTEM_MESSAGE,\n\u001b[1;32m     13\u001b[0m     AfterWork,\n\u001b[1;32m     14\u001b[0m     AfterWorkOption,\n\u001b[1;32m     15\u001b[0m     Agent,\n\u001b[1;32m     16\u001b[0m     AssistantAgent,\n\u001b[1;32m     17\u001b[0m     ChatResult,\n\u001b[1;32m     18\u001b[0m     ConversableAgent,\n\u001b[1;32m     19\u001b[0m     GroupChat,\n\u001b[1;32m     20\u001b[0m     GroupChatManager,\n\u001b[1;32m     21\u001b[0m     OnCondition,\n\u001b[1;32m     22\u001b[0m     ReasoningAgent,\n\u001b[1;32m     23\u001b[0m     SwarmAgent,\n\u001b[1;32m     24\u001b[0m     SwarmResult,\n\u001b[1;32m     25\u001b[0m     ThinkNode,\n\u001b[1;32m     26\u001b[0m     UpdateSystemMessage,\n\u001b[1;32m     27\u001b[0m     UserProxyAgent,\n\u001b[1;32m     28\u001b[0m     a_initiate_swarm_chat,\n\u001b[1;32m     29\u001b[0m     gather_usage_summary,\n\u001b[1;32m     30\u001b[0m     initiate_chats,\n\u001b[1;32m     31\u001b[0m     initiate_swarm_chat,\n\u001b[1;32m     32\u001b[0m     register_function,\n\u001b[1;32m     33\u001b[0m     register_hand_off,\n\u001b[1;32m     34\u001b[0m     visualize_tree,\n\u001b[1;32m     35\u001b[0m )\n\u001b[1;32m     36\u001b[0m \u001b[38;5;28;01mfrom\u001b[39;00m \u001b[38;5;21;01m.\u001b[39;00m\u001b[38;5;21;01mcode_utils\u001b[39;00m \u001b[38;5;28;01mimport\u001b[39;00m DEFAULT_MODEL, FAST_MODEL\n\u001b[1;32m     37\u001b[0m \u001b[38;5;28;01mfrom\u001b[39;00m \u001b[38;5;21;01m.\u001b[39;00m\u001b[38;5;21;01mexception_utils\u001b[39;00m \u001b[38;5;28;01mimport\u001b[39;00m (\n\u001b[1;32m     38\u001b[0m     AgentNameConflictError,\n\u001b[1;32m     39\u001b[0m     InvalidCarryOverTypeError,\n\u001b[0;32m   (...)\u001b[0m\n\u001b[1;32m     42\u001b[0m     UndefinedNextAgentError,\n\u001b[1;32m     43\u001b[0m )\n",
      "File \u001b[0;32m/usr/local/lib/python3.11/site-packages/autogen/agentchat/__init__.py:8\u001b[0m\n\u001b[1;32m      1\u001b[0m \u001b[38;5;66;03m# Copyright (c) 2023 - 2025, AG2ai, Inc., AG2ai open-source projects maintainers and core contributors\u001b[39;00m\n\u001b[1;32m      2\u001b[0m \u001b[38;5;66;03m#\u001b[39;00m\n\u001b[1;32m      3\u001b[0m \u001b[38;5;66;03m# SPDX-License-Identifier: Apache-2.0\u001b[39;00m\n\u001b[1;32m      4\u001b[0m \u001b[38;5;66;03m#\u001b[39;00m\n\u001b[1;32m      5\u001b[0m \u001b[38;5;66;03m# Portions derived from  https://github.com/microsoft/autogen are under the MIT License.\u001b[39;00m\n\u001b[1;32m      6\u001b[0m \u001b[38;5;66;03m# SPDX-License-Identifier: MIT\u001b[39;00m\n\u001b[1;32m      7\u001b[0m \u001b[38;5;28;01mfrom\u001b[39;00m \u001b[38;5;21;01m.\u001b[39;00m\u001b[38;5;21;01magent\u001b[39;00m \u001b[38;5;28;01mimport\u001b[39;00m Agent, LLMAgent\n\u001b[0;32m----> 8\u001b[0m \u001b[38;5;28;01mfrom\u001b[39;00m \u001b[38;5;21;01m.\u001b[39;00m\u001b[38;5;21;01massistant_agent\u001b[39;00m \u001b[38;5;28;01mimport\u001b[39;00m AssistantAgent\n\u001b[1;32m      9\u001b[0m \u001b[38;5;28;01mfrom\u001b[39;00m \u001b[38;5;21;01m.\u001b[39;00m\u001b[38;5;21;01mchat\u001b[39;00m \u001b[38;5;28;01mimport\u001b[39;00m ChatResult, a_initiate_chats, initiate_chats\n\u001b[1;32m     10\u001b[0m \u001b[38;5;28;01mfrom\u001b[39;00m \u001b[38;5;21;01m.\u001b[39;00m\u001b[38;5;21;01mcontrib\u001b[39;00m\u001b[38;5;21;01m.\u001b[39;00m\u001b[38;5;21;01mreasoning_agent\u001b[39;00m \u001b[38;5;28;01mimport\u001b[39;00m (\n\u001b[1;32m     11\u001b[0m     ReasoningAgent,\n\u001b[1;32m     12\u001b[0m     ThinkNode,\n\u001b[1;32m     13\u001b[0m     visualize_tree,\n\u001b[1;32m     14\u001b[0m )\n",
      "File \u001b[0;32m/usr/local/lib/python3.11/site-packages/autogen/agentchat/assistant_agent.py:11\u001b[0m\n\u001b[1;32m      9\u001b[0m \u001b[38;5;28;01mfrom\u001b[39;00m \u001b[38;5;21;01m.\u001b[39;00m\u001b[38;5;21;01m.\u001b[39;00m\u001b[38;5;21;01mdoc_utils\u001b[39;00m \u001b[38;5;28;01mimport\u001b[39;00m export_module\n\u001b[1;32m     10\u001b[0m \u001b[38;5;28;01mfrom\u001b[39;00m \u001b[38;5;21;01m.\u001b[39;00m\u001b[38;5;21;01m.\u001b[39;00m\u001b[38;5;21;01mruntime_logging\u001b[39;00m \u001b[38;5;28;01mimport\u001b[39;00m log_new_agent, logging_enabled\n\u001b[0;32m---> 11\u001b[0m \u001b[38;5;28;01mfrom\u001b[39;00m \u001b[38;5;21;01m.\u001b[39;00m\u001b[38;5;21;01mconversable_agent\u001b[39;00m \u001b[38;5;28;01mimport\u001b[39;00m ConversableAgent\n\u001b[1;32m     14\u001b[0m \u001b[38;5;129m@export_module\u001b[39m(\u001b[38;5;124m\"\u001b[39m\u001b[38;5;124mautogen\u001b[39m\u001b[38;5;124m\"\u001b[39m)\n\u001b[1;32m     15\u001b[0m \u001b[38;5;28;01mclass\u001b[39;00m \u001b[38;5;21;01mAssistantAgent\u001b[39;00m(ConversableAgent):\n\u001b[1;32m     16\u001b[0m \u001b[38;5;250m    \u001b[39m\u001b[38;5;124;03m\"\"\"(In preview) Assistant agent, designed to solve a task with LLM.\u001b[39;00m\n\u001b[1;32m     17\u001b[0m \n\u001b[1;32m     18\u001b[0m \u001b[38;5;124;03m    AssistantAgent is a subclass of ConversableAgent configured with a default system message.\u001b[39;00m\n\u001b[0;32m   (...)\u001b[0m\n\u001b[1;32m     23\u001b[0m \u001b[38;5;124;03m    This agent doesn't execute code by default, and expects the user to execute the code.\u001b[39;00m\n\u001b[1;32m     24\u001b[0m \u001b[38;5;124;03m    \"\"\"\u001b[39;00m\n",
      "File \u001b[0;32m/usr/local/lib/python3.11/site-packages/autogen/agentchat/conversable_agent.py:61\u001b[0m\n\u001b[1;32m     59\u001b[0m \u001b[38;5;28;01mfrom\u001b[39;00m \u001b[38;5;21;01m.\u001b[39;00m\u001b[38;5;21;01m.\u001b[39;00m\u001b[38;5;21;01moai\u001b[39;00m\u001b[38;5;21;01m.\u001b[39;00m\u001b[38;5;21;01mclient\u001b[39;00m \u001b[38;5;28;01mimport\u001b[39;00m ModelClient, OpenAIWrapper\n\u001b[1;32m     60\u001b[0m \u001b[38;5;28;01mfrom\u001b[39;00m \u001b[38;5;21;01m.\u001b[39;00m\u001b[38;5;21;01m.\u001b[39;00m\u001b[38;5;21;01mruntime_logging\u001b[39;00m \u001b[38;5;28;01mimport\u001b[39;00m log_event, log_function_use, log_new_agent, logging_enabled\n\u001b[0;32m---> 61\u001b[0m \u001b[38;5;28;01mfrom\u001b[39;00m \u001b[38;5;21;01m.\u001b[39;00m\u001b[38;5;21;01m.\u001b[39;00m\u001b[38;5;21;01mtools\u001b[39;00m \u001b[38;5;28;01mimport\u001b[39;00m ChatContext, Tool, get_function_schema, load_basemodels_if_needed, serialize_to_str\n\u001b[1;32m     62\u001b[0m \u001b[38;5;28;01mfrom\u001b[39;00m \u001b[38;5;21;01m.\u001b[39;00m\u001b[38;5;21;01magent\u001b[39;00m \u001b[38;5;28;01mimport\u001b[39;00m Agent, LLMAgent\n\u001b[1;32m     63\u001b[0m \u001b[38;5;28;01mfrom\u001b[39;00m \u001b[38;5;21;01m.\u001b[39;00m\u001b[38;5;21;01mchat\u001b[39;00m \u001b[38;5;28;01mimport\u001b[39;00m ChatResult, _post_process_carryover_item, a_initiate_chats, initiate_chats\n",
      "File \u001b[0;32m/usr/local/lib/python3.11/site-packages/autogen/tools/__init__.py:6\u001b[0m\n\u001b[1;32m      1\u001b[0m \u001b[38;5;66;03m# Copyright (c) 2023 - 2025, AG2ai, Inc., AG2ai open-source projects maintainers and core contributors\u001b[39;00m\n\u001b[1;32m      2\u001b[0m \u001b[38;5;66;03m#\u001b[39;00m\n\u001b[1;32m      3\u001b[0m \u001b[38;5;66;03m# SPDX-License-Identifier: Apache-2.0\u001b[39;00m\n\u001b[1;32m      5\u001b[0m \u001b[38;5;28;01mfrom\u001b[39;00m \u001b[38;5;21;01m.\u001b[39;00m\u001b[38;5;21;01mdependency_injection\u001b[39;00m \u001b[38;5;28;01mimport\u001b[39;00m BaseContext, ChatContext, Depends\n\u001b[0;32m----> 6\u001b[0m \u001b[38;5;28;01mfrom\u001b[39;00m \u001b[38;5;21;01m.\u001b[39;00m\u001b[38;5;21;01mfunction_utils\u001b[39;00m \u001b[38;5;28;01mimport\u001b[39;00m get_function_schema, load_basemodels_if_needed, serialize_to_str\n\u001b[1;32m      7\u001b[0m \u001b[38;5;28;01mfrom\u001b[39;00m \u001b[38;5;21;01m.\u001b[39;00m\u001b[38;5;21;01mtool\u001b[39;00m \u001b[38;5;28;01mimport\u001b[39;00m Tool, tool\n\u001b[1;32m      9\u001b[0m __all__ \u001b[38;5;241m=\u001b[39m [\n\u001b[1;32m     10\u001b[0m     \u001b[38;5;124m\"\u001b[39m\u001b[38;5;124mBaseContext\u001b[39m\u001b[38;5;124m\"\u001b[39m,\n\u001b[1;32m     11\u001b[0m     \u001b[38;5;124m\"\u001b[39m\u001b[38;5;124mChatContext\u001b[39m\u001b[38;5;124m\"\u001b[39m,\n\u001b[0;32m   (...)\u001b[0m\n\u001b[1;32m     17\u001b[0m     \u001b[38;5;124m\"\u001b[39m\u001b[38;5;124mtool\u001b[39m\u001b[38;5;124m\"\u001b[39m,\n\u001b[1;32m     18\u001b[0m ]\n",
      "File \u001b[0;32m/usr/local/lib/python3.11/site-packages/autogen/tools/function_utils.py:14\u001b[0m\n\u001b[1;32m     11\u001b[0m \u001b[38;5;28;01mfrom\u001b[39;00m \u001b[38;5;21;01mtyping\u001b[39;00m \u001b[38;5;28;01mimport\u001b[39;00m Annotated, Any, Callable, ForwardRef, Optional, TypeVar, Union\n\u001b[1;32m     13\u001b[0m \u001b[38;5;28;01mfrom\u001b[39;00m \u001b[38;5;21;01mpydantic\u001b[39;00m \u001b[38;5;28;01mimport\u001b[39;00m BaseModel, Field, TypeAdapter\n\u001b[0;32m---> 14\u001b[0m \u001b[38;5;28;01mfrom\u001b[39;00m \u001b[38;5;21;01mpydantic\u001b[39;00m\u001b[38;5;21;01m.\u001b[39;00m\u001b[38;5;21;01m_internal\u001b[39;00m\u001b[38;5;21;01m.\u001b[39;00m\u001b[38;5;21;01m_typing_extra\u001b[39;00m \u001b[38;5;28;01mimport\u001b[39;00m try_eval_type  \u001b[38;5;66;03m# type: ignore[attr-defined]\u001b[39;00m\n\u001b[1;32m     15\u001b[0m \u001b[38;5;28;01mfrom\u001b[39;00m \u001b[38;5;21;01mpydantic\u001b[39;00m\u001b[38;5;21;01m.\u001b[39;00m\u001b[38;5;21;01mjson_schema\u001b[39;00m \u001b[38;5;28;01mimport\u001b[39;00m JsonSchemaValue\n\u001b[1;32m     16\u001b[0m \u001b[38;5;28;01mfrom\u001b[39;00m \u001b[38;5;21;01mtyping_extensions\u001b[39;00m \u001b[38;5;28;01mimport\u001b[39;00m Literal, get_args, get_origin\n",
      "\u001b[0;31mImportError\u001b[0m: cannot import name 'try_eval_type' from 'pydantic._internal._typing_extra' (/usr/local/lib/python3.11/site-packages/pydantic/_internal/_typing_extra.py)"
     ]
    }
   ],
   "source": [
    "# Import the run_SOM1_WF1 function from workflows.py\n",
    "from workflows import run_SOM1_WF1\n"
   ]
  },
  {
   "cell_type": "code",
   "execution_count": null,
   "metadata": {},
   "outputs": [],
   "source": [
    "# Run the workflow with the specified parameters\n",
    "results_df = run_SOM1_WF1(\n",
    "    difficulty=\"easy\",\n",
    "    kc=\"Understanding Fractions\",\n",
    "    n_questions=5,       # generate 5 final questions\n",
    "    num_rounds=3,        # each question goes through 3 back-and-forth cycles\n",
    "    autoCOT=True,\n",
    "    difficulty_method=\"empirical\",\n",
    "    easy_csv= \"/data/text2_easy_questions.csv\",\n",
    "    medium_csv= \"/data/ext2_medium_questions.csv\",\n",
    "    hard_csv= \"/data/text2_hard_questions.csv\",\n",
    "    output_csv_path=\"/content/drive/MyDrive/QA_GEN/experiments/SOM1_WF1_output.csv\",\n",
    "    seed=42,\n",
    "    temp=0.7,\n",
    "    Solution_flag=False,\n",
    "    model=\"gpt-4o\"\n",
    ")\n"
   ]
  },
  {
   "cell_type": "code",
   "execution_count": null,
   "metadata": {},
   "outputs": [],
   "source": [
    "# Display the resulting DataFrame\n",
    "from IPython.display import display\n",
    "display(results_df)\n"
   ]
  }
 ],
 "metadata": {
  "kernelspec": {
   "display_name": "Python 3",
   "language": "python",
   "name": "python3"
  },
  "language_info": {
   "codemirror_mode": {
    "name": "ipython",
    "version": 3
   },
   "file_extension": ".py",
   "mimetype": "text/x-python",
   "name": "python",
   "nbconvert_exporter": "python",
   "pygments_lexer": "ipython3",
   "version": "3.11.4"
  }
 },
 "nbformat": 4,
 "nbformat_minor": 2
}
